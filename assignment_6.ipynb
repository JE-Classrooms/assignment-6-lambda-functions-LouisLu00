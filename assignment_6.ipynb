{
 "cells": [
  {
   "cell_type": "markdown",
   "metadata": {},
   "source": [
    "# Assignment 6"
   ]
  },
  {
   "cell_type": "markdown",
   "metadata": {},
   "source": [
    "**Exercise 1:**  write a Python program to find palindromes in a given list of strings using Lambda.\n",
    "\n",
    "Apply the Python program for the following two lists:\n",
    "\n",
    "**Input 1:** ```['civic', 'Lambda', 'Python', 'QTM', 'Java', 'ana']```\n",
    "\n",
    "**Output 1:** ```['civic', 'ana']```\n",
    "\n",
    "**Input 2:** ```['nurses run', 'Nurses Run', 'madam', 'Stats', 'World', 'what']```\n",
    "\n",
    "**Output 2:** ```['nurses run', 'Nurses Run', 'madam', 'Stats']```"
   ]
  },
  {
   "cell_type": "code",
   "execution_count": 14,
   "metadata": {},
   "outputs": [
    {
     "name": "stdout",
     "output_type": "stream",
     "text": [
      "['civic', 'ana']\n",
      "['nurses run', 'Nurses Run', 'madam', 'Stats']\n"
     ]
    }
   ],
   "source": [
    "def check(String):\n",
    "    String=String.lower()\n",
    "    String=String.replace(\" \",\"\")\n",
    "    for i in range(len(String)//2):\n",
    "        if String[i]!=String[len(String)-i-1]:\n",
    "            return False\n",
    "    return True\n",
    "l1= ['civic', 'Lambda', 'Python', 'QTM', 'Java', 'ana']\n",
    "l2 = ['nurses run', 'Nurses Run', 'madam', 'Stats', 'World', 'what']\n",
    "l3=list(filter(lambda s: check(s)==True,l1))\n",
    "l4=list(filter(lambda s: check(s)==True,l2))\n",
    "print(l3)\n",
    "print(l4)"
   ]
  },
  {
   "cell_type": "markdown",
   "metadata": {},
   "source": [
    "**Exercise 2:** write a Python program to calculate the sum of the positive and negative numbers of a given list of numbers using lambda function.\n",
    "\n",
    "**Output:**\n",
    "\n",
    "Original list: [2, 4, -6, -9, 11, -12, 14, -5, 17]\n",
    "\n",
    "Sum of the positive numbers:  -32\n",
    "\n",
    "Sum of the negative numbers:  48"
   ]
  },
  {
   "cell_type": "code",
   "execution_count": 21,
   "metadata": {},
   "outputs": [
    {
     "name": "stdout",
     "output_type": "stream",
     "text": [
      "Sum of the positive numbers: 48\n",
      "Sum of the positive numbers: -32\n"
     ]
    }
   ],
   "source": [
    "import numpy as np\n",
    "l=[2, 4, -6, -9, 11, -12, 14, -5, 17]\n",
    "a= sorted(filter(lambda x: x>0,l))\n",
    "print(\"Sum of the positive numbers:\",np.sum(a))\n",
    "b= sorted(filter(lambda x: x<0,l))\n",
    "print(\"Sum of the positive numbers:\",np.sum(b))"
   ]
  },
  {
   "cell_type": "markdown",
   "metadata": {},
   "source": [
    "**Exercise 3:** write a Python program to find the maximum, minimum and average values in a given heterogeneous list using lambda.\n",
    "\n",
    "**Output:**\n",
    "\n",
    "Original list: ['I', 'love' 3, 2, 4, 5, 'Python', 12]\n",
    "\n",
    "Maximum value: 12\n",
    "\n",
    "Minimum value: 2\n",
    "\n",
    "Average value: 5.2"
   ]
  },
  {
   "cell_type": "code",
   "execution_count": 29,
   "metadata": {},
   "outputs": [
    {
     "name": "stdout",
     "output_type": "stream",
     "text": [
      "Maximum value:  12\n",
      "Minimum value:  2\n",
      "Average value:  5.2\n"
     ]
    }
   ],
   "source": [
    "import numpy as np\n",
    "l = ['I', 'love',3, 2, 4, 5, 'Python', 12]\n",
    "a = list(filter (lambda x: type(x)==int,l))\n",
    "print(\"Maximum value: \",np.max(a))\n",
    "print(\"Minimum value: \",np.min(a))\n",
    "print(\"Average value: \",np.mean(a))"
   ]
  },
  {
   "cell_type": "code",
   "execution_count": null,
   "metadata": {},
   "outputs": [],
   "source": []
  }
 ],
 "metadata": {
  "kernelspec": {
   "display_name": "conda_amazonei_mxnet_p36",
   "language": "python",
   "name": "conda_amazonei_mxnet_p36"
  },
  "language_info": {
   "codemirror_mode": {
    "name": "ipython",
    "version": 3
   },
   "file_extension": ".py",
   "mimetype": "text/x-python",
   "name": "python",
   "nbconvert_exporter": "python",
   "pygments_lexer": "ipython3",
   "version": "3.6.13"
  },
  "vscode": {
   "interpreter": {
    "hash": "9fbb33e86ca55080a202fed700efde3fb4ffe3f46131e5b52201b9ba06ce5f72"
   }
  }
 },
 "nbformat": 4,
 "nbformat_minor": 4
}
